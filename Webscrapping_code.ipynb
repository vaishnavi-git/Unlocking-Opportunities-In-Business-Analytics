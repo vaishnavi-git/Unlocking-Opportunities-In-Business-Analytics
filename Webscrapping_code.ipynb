{
  "cells": [
    {
      "cell_type": "code",
      "execution_count": null,
      "id": "021ae4cf-7760-4c16-8f66-c691c5d998b4",
      "metadata": {
        "id": "021ae4cf-7760-4c16-8f66-c691c5d998b4"
      },
      "outputs": [],
      "source": [
        "import requests\n",
        "from bs4 import BeautifulSoup\n",
        "import pandas as pd\n",
        "\n",
        "# Base URL to loop through pages\n",
        "base_url = \"https://www.businessanalyst.com/business-analyst-jobs?d1d2b3ca_page={}\"\n",
        "\n",
        "# List to store job details\n",
        "jobs_data = []\n",
        "\n",
        "# Loop through the 35 pages\n",
        "for page_num in range(1, 36):\n",
        "    # Construct the URL for each page\n",
        "    url = base_url.format(page_num)\n",
        "\n",
        "    # Fetch the page content\n",
        "    response = requests.get(url)\n",
        "\n",
        "    if response.status_code == 200:\n",
        "        # Parse the page content using BeautifulSoup\n",
        "        soup = BeautifulSoup(response.content, 'html.parser')\n",
        "\n",
        "        # Find the job listing elements (adjust the selector based on actual page structure)\n",
        "        job_listings = soup.find_all('div', class_='job-item w-dyn-item')\n",
        "\n",
        "        # Loop through each job listing and extract details\n",
        "        for job in job_listings:\n",
        "            # Extract the job title\n",
        "            job_title = job.find('h3', class_='title h6-size card-job').text.strip() if job.find('h3', class_='title h6-size card-job') else 'N/A'\n",
        "\n",
        "            # Extract the company name\n",
        "            company = job.find('div', class_='card-link-home').text.strip() if job.find('div', class_='card-link-home') else 'N/A'\n",
        "\n",
        "            # Extract each detail with error handling for missing elements\n",
        "            location = job.find('div', class_='text-block-21')\n",
        "            location = location.find_next('div', class_='card-job-category-text').text.strip() if location else 'N/A'\n",
        "\n",
        "            workplace = job.find('div', class_='text-block-22')\n",
        "            workplace = workplace.find_next('div', class_='card-job-category-text').text.strip() if workplace else 'N/A'\n",
        "\n",
        "            experience = job.find('div', class_='text-block-23')\n",
        "            experience = experience.find_next('div', class_='card-job-category-text').text.strip() if experience else 'N/A'\n",
        "\n",
        "            industry = job.find('div', class_='text-block-24')\n",
        "            industry = industry.find_next('div', class_='card-job-category-text').text.strip() if industry else 'N/A'\n",
        "\n",
        "            salary = job.find('div', class_='text-block-25')\n",
        "            salary = salary.find_next('div', class_='card-job-category-text card-job-category-salary').text.strip() if salary else 'N/A'\n",
        "\n",
        "            published_date = job.find('div', class_='text-block-26')\n",
        "            published_date = published_date.find_next('div', class_='card-job-category-text').text.strip() if published_date else 'N/A'\n",
        "\n",
        "            # Append the job details to the list\n",
        "            jobs_data.append({\n",
        "                'Job Title': job_title,\n",
        "                'Company': company,\n",
        "                'Location': location,\n",
        "                'Workplace': workplace,\n",
        "                'Experience': experience,\n",
        "                'Industry': industry,\n",
        "                'Salary': salary,\n",
        "                'Published Date': published_date\n",
        "            })\n",
        "    else:\n",
        "        print(f\"Failed to retrieve page {page_num}\")\n",
        "\n",
        "# Convert the jobs data to a pandas DataFrame for further analysis or saving to a file\n",
        "jobs_df = pd.DataFrame(jobs_data)\n",
        "\n",
        "# Save the data to a CSV file\n",
        "jobs_df.to_csv('business_analyst_jobs.csv', index=False)\n",
        "\n",
        "# Display the data to user"
      ]
    },
    {
      "cell_type": "code",
      "execution_count": null,
      "id": "a85564be-4da5-4076-8c4d-29c67c2f5852",
      "metadata": {
        "id": "a85564be-4da5-4076-8c4d-29c67c2f5852"
      },
      "outputs": [],
      "source": []
    }
  ],
  "metadata": {
    "kernelspec": {
      "display_name": "Python 3 (ipykernel)",
      "language": "python",
      "name": "python3"
    },
    "language_info": {
      "codemirror_mode": {
        "name": "ipython",
        "version": 3
      },
      "file_extension": ".py",
      "mimetype": "text/x-python",
      "name": "python",
      "nbconvert_exporter": "python",
      "pygments_lexer": "ipython3",
      "version": "3.11.8"
    },
    "colab": {
      "provenance": []
    }
  },
  "nbformat": 4,
  "nbformat_minor": 5
}